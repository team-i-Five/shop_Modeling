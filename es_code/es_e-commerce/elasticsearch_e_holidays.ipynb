{
 "cells": [
  {
   "cell_type": "code",
   "execution_count": 1,
   "metadata": {},
   "outputs": [],
   "source": [
    "import pandas as pd\n",
    "from elasticsearch import Elasticsearch\n",
    "from elasticsearch.helpers import bulk, BulkIndexError"
   ]
  },
  {
   "cell_type": "code",
   "execution_count": 2,
   "metadata": {},
   "outputs": [],
   "source": [
    "# 데이터 읽기\n",
    "holidays_path = r\"/home/user1/project/shop_Modeling/data/e-commerce_data/holidays.csv\"\n",
    "holidays = pd.read_csv(holidays_path)"
   ]
  },
  {
   "cell_type": "code",
   "execution_count": 3,
   "metadata": {},
   "outputs": [
    {
     "name": "stdout",
     "output_type": "stream",
     "text": [
      "데이터프레임의 크기: (48, 2)\n"
     ]
    }
   ],
   "source": [
    "# 데이터프레임의 크기 확인\n",
    "print(\"데이터프레임의 크기:\", holidays.shape)"
   ]
  },
  {
   "cell_type": "code",
   "execution_count": 4,
   "metadata": {},
   "outputs": [
    {
     "data": {
      "text/html": [
       "<div>\n",
       "<style scoped>\n",
       "    .dataframe tbody tr th:only-of-type {\n",
       "        vertical-align: middle;\n",
       "    }\n",
       "\n",
       "    .dataframe tbody tr th {\n",
       "        vertical-align: top;\n",
       "    }\n",
       "\n",
       "    .dataframe thead th {\n",
       "        text-align: right;\n",
       "    }\n",
       "</style>\n",
       "<table border=\"1\" class=\"dataframe\">\n",
       "  <thead>\n",
       "    <tr style=\"text-align: right;\">\n",
       "      <th></th>\n",
       "      <th>date</th>\n",
       "      <th>holiday</th>\n",
       "    </tr>\n",
       "  </thead>\n",
       "  <tbody>\n",
       "    <tr>\n",
       "      <th>0</th>\n",
       "      <td>2021-01-01</td>\n",
       "      <td>New Year</td>\n",
       "    </tr>\n",
       "    <tr>\n",
       "      <th>1</th>\n",
       "      <td>2021-01-07</td>\n",
       "      <td>Orthodox Christmas</td>\n",
       "    </tr>\n",
       "    <tr>\n",
       "      <th>2</th>\n",
       "      <td>2021-01-13</td>\n",
       "      <td>Old New Year</td>\n",
       "    </tr>\n",
       "    <tr>\n",
       "      <th>3</th>\n",
       "      <td>2021-01-19</td>\n",
       "      <td>Baptizing - Sacred Epiphany</td>\n",
       "    </tr>\n",
       "    <tr>\n",
       "      <th>4</th>\n",
       "      <td>2021-01-25</td>\n",
       "      <td>Students day</td>\n",
       "    </tr>\n",
       "  </tbody>\n",
       "</table>\n",
       "</div>"
      ],
      "text/plain": [
       "         date                      holiday\n",
       "0  2021-01-01                     New Year\n",
       "1  2021-01-07           Orthodox Christmas\n",
       "2  2021-01-13                 Old New Year\n",
       "3  2021-01-19  Baptizing - Sacred Epiphany\n",
       "4  2021-01-25                 Students day"
      ]
     },
     "execution_count": 4,
     "metadata": {},
     "output_type": "execute_result"
    }
   ],
   "source": [
    "holidays.head()"
   ]
  },
  {
   "cell_type": "code",
   "execution_count": 5,
   "metadata": {},
   "outputs": [
    {
     "name": "stdout",
     "output_type": "stream",
     "text": [
      "date       object\n",
      "holiday    object\n",
      "dtype: object\n"
     ]
    }
   ],
   "source": [
    "column_types = holidays.dtypes\n",
    "print(column_types)"
   ]
  },
  {
   "cell_type": "code",
   "execution_count": 6,
   "metadata": {},
   "outputs": [],
   "source": [
    "# # Elasticsearch 서버 연결\n",
    "es = Elasticsearch([{'host': 'localhost', 'port': 9200, 'scheme': 'http'}])"
   ]
  },
  {
   "cell_type": "code",
   "execution_count": 7,
   "metadata": {},
   "outputs": [
    {
     "name": "stdout",
     "output_type": "stream",
     "text": [
      "Elasticsearch 서버에 성공적으로 연결되었습니다.\n"
     ]
    }
   ],
   "source": [
    "# Elasticsearch 서버에 ping 요청 보내기\n",
    "if es.ping():\n",
    "    print(\"Elasticsearch 서버에 성공적으로 연결되었습니다.\")\n",
    "else:\n",
    "    print(\"Elasticsearch 서버에 연결하지 못했습니다.\")"
   ]
  },
  {
   "cell_type": "code",
   "execution_count": 8,
   "metadata": {},
   "outputs": [],
   "source": [
    "# 인덱스가 이미 존재하는 경우 삭제\n",
    "if es.indices.exists(index=\"e_holidays\"):\n",
    "    es.indices.delete(index=\"e_holidays\")"
   ]
  },
  {
   "cell_type": "code",
   "execution_count": 9,
   "metadata": {},
   "outputs": [],
   "source": [
    "# Elasticsearch에 색인\n",
    "e_holidays = 'e_holidays'  # 원하는 색인명으로 변경\n",
    "\n",
    "# Elasticsearch 인덱스 매핑 설정\n",
    "mapping = {\n",
    "    \"mappings\": {\n",
    "        \"properties\": {\n",
    "            \"date\" : {\"type\": \"date\", \"format\": \"yyyy-MM-dd\"},  # 날짜 필드,\n",
    "            \"holiday\" : {\"type\": \"keyword\"}\n",
    "        }\n",
    "    }\n",
    "}"
   ]
  },
  {
   "cell_type": "code",
   "execution_count": 10,
   "metadata": {},
   "outputs": [
    {
     "name": "stderr",
     "output_type": "stream",
     "text": [
      "/tmp/ipykernel_13063/3184820445.py:1: DeprecationWarning: Passing transport options in the API method is deprecated. Use 'Elasticsearch.options()' instead.\n",
      "  es.indices.create(index=\"e_holidays\", body=mapping, ignore=400)\n"
     ]
    },
    {
     "data": {
      "text/plain": [
       "ObjectApiResponse({'acknowledged': True, 'shards_acknowledged': True, 'index': 'e_holidays'})"
      ]
     },
     "execution_count": 10,
     "metadata": {},
     "output_type": "execute_result"
    }
   ],
   "source": [
    "# 인덱스 생성\n",
    "es.indices.create(index=\"e_holidays\", body=mapping, ignore=400)"
   ]
  },
  {
   "cell_type": "code",
   "execution_count": 11,
   "metadata": {},
   "outputs": [
    {
     "name": "stderr",
     "output_type": "stream",
     "text": [
      "/tmp/ipykernel_13063/277080718.py:2: DeprecationWarning: Passing transport options in the API method is deprecated. Use 'Elasticsearch.options()' instead.\n",
      "  es.indices.delete(index=\"e_holidays\", ignore=[400, 404])\n"
     ]
    },
    {
     "data": {
      "text/plain": [
       "ObjectApiResponse({'acknowledged': True})"
      ]
     },
     "execution_count": 11,
     "metadata": {},
     "output_type": "execute_result"
    }
   ],
   "source": [
    "# Elasticsearch에 이미 색인된 데이터 삭제\n",
    "es.indices.delete(index=\"e_holidays\", ignore=[400, 404])"
   ]
  },
  {
   "cell_type": "code",
   "execution_count": 12,
   "metadata": {},
   "outputs": [
    {
     "name": "stdout",
     "output_type": "stream",
     "text": [
      "Indexed 48 documents successfully.\n",
      "색인이 완료되었습니다.\n"
     ]
    }
   ],
   "source": [
    "# 데이터프레임에서 Elasticsearch에 색인할 문서 생성\n",
    "documents = []\n",
    "\n",
    "for _, row in holidays.iterrows():\n",
    "    document = row.to_dict()\n",
    "\n",
    "    # NaN이 아닌 경우에만 날짜를 ISO 형식으로 변환\n",
    "    for key, value in document.items():\n",
    "        if key == 'date' and pd.notna(value):\n",
    "            document[key] = pd.to_datetime(value).isoformat()\n",
    "\n",
    "    # NaN을 None으로 대체\n",
    "    document = {key: (None if pd.isna(value) else value) for key, value in document.items()}\n",
    "\n",
    "    documents.append({\n",
    "        \"_op_type\": \"index\",\n",
    "        \"_index\": e_holidays,\n",
    "        \"_source\": document\n",
    "    })\n",
    "\n",
    "# Elasticsearch에 색인\n",
    "try:\n",
    "    success, failed = bulk(es, documents)\n",
    "    print(f\"Indexed {success} documents successfully.\")\n",
    "    if failed:\n",
    "        for i, failure in enumerate(failed):\n",
    "            print(f\"Failed to index document {i + 1}: {failure}\")\n",
    "except BulkIndexError as e:\n",
    "    print(f\"Error indexing documents: {e}\")\n",
    "\n",
    "print(\"색인이 완료되었습니다.\")"
   ]
  }
 ],
 "metadata": {
  "kernelspec": {
   "display_name": "Python 3",
   "language": "python",
   "name": "python3"
  },
  "language_info": {
   "codemirror_mode": {
    "name": "ipython",
    "version": 3
   },
   "file_extension": ".py",
   "mimetype": "text/x-python",
   "name": "python",
   "nbconvert_exporter": "python",
   "pygments_lexer": "ipython3",
   "version": "3.8.18"
  }
 },
 "nbformat": 4,
 "nbformat_minor": 2
}

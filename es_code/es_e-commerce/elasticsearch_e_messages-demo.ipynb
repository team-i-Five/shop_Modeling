{
 "cells": [
  {
   "cell_type": "code",
   "execution_count": 15,
   "metadata": {},
   "outputs": [],
   "source": [
    "import pandas as pd\n",
    "from elasticsearch import Elasticsearch\n",
    "from elasticsearch.helpers import bulk, BulkIndexError"
   ]
  },
  {
   "cell_type": "code",
   "execution_count": 16,
   "metadata": {},
   "outputs": [],
   "source": [
    "messages_demo_path = r\"/home/user1/project/shop_Modeling/data/e-commerce_data/messages-demo.csv\"\n",
    "chunk_size = 5000\n",
    "num_rows_to_read = 1000000"
   ]
  },
  {
   "cell_type": "code",
   "execution_count": 17,
   "metadata": {},
   "outputs": [],
   "source": [
    "# 청크 단위로 데이터프레임을 읽어오기\n",
    "chunks = pd.read_csv(messages_demo_path, chunksize=chunk_size)\n",
    "\n",
    "# 청크를 담을 리스트 초기화\n",
    "all_chunks = []"
   ]
  },
  {
   "cell_type": "code",
   "execution_count": 18,
   "metadata": {},
   "outputs": [],
   "source": [
    "# 각 청크에 대한 처리\n",
    "for chunk in chunks:\n",
    "    # 청크를 리스트에 추가\n",
    "    all_chunks.append(chunk)\n",
    "\n",
    "    # 읽은 행의 총 수 계산\n",
    "    rows_read = sum(chunk.shape[0] for chunk in all_chunks)\n",
    "\n",
    "    # 읽은 행의 총 수가 목표 행의 수에 도달하면 중단\n",
    "    if rows_read >= num_rows_to_read:\n",
    "        break\n",
    "\n",
    "# 모든 청크를 하나의 데이터프레임으로 통합\n",
    "data = pd.concat(all_chunks, ignore_index=True)"
   ]
  },
  {
   "cell_type": "code",
   "execution_count": 19,
   "metadata": {},
   "outputs": [
    {
     "name": "stdout",
     "output_type": "stream",
     "text": [
      "데이터프레임의 크기: (1000000, 32)\n"
     ]
    }
   ],
   "source": [
    "# 데이터프레임의 크기 확인\n",
    "print(\"데이터프레임의 크기:\", data.shape)"
   ]
  },
  {
   "cell_type": "code",
   "execution_count": 20,
   "metadata": {},
   "outputs": [
    {
     "data": {
      "text/html": [
       "<div>\n",
       "<style scoped>\n",
       "    .dataframe tbody tr th:only-of-type {\n",
       "        vertical-align: middle;\n",
       "    }\n",
       "\n",
       "    .dataframe tbody tr th {\n",
       "        vertical-align: top;\n",
       "    }\n",
       "\n",
       "    .dataframe thead th {\n",
       "        text-align: right;\n",
       "    }\n",
       "</style>\n",
       "<table border=\"1\" class=\"dataframe\">\n",
       "  <thead>\n",
       "    <tr style=\"text-align: right;\">\n",
       "      <th></th>\n",
       "      <th>id</th>\n",
       "      <th>message_id</th>\n",
       "      <th>campaign_id</th>\n",
       "      <th>message_type</th>\n",
       "      <th>client_id</th>\n",
       "      <th>channel</th>\n",
       "      <th>category</th>\n",
       "      <th>platform</th>\n",
       "      <th>email_provider</th>\n",
       "      <th>stream</th>\n",
       "      <th>...</th>\n",
       "      <th>is_soft_bounced</th>\n",
       "      <th>soft_bounced_at</th>\n",
       "      <th>is_complained</th>\n",
       "      <th>complained_at</th>\n",
       "      <th>is_blocked</th>\n",
       "      <th>blocked_at</th>\n",
       "      <th>is_purchased</th>\n",
       "      <th>purchased_at</th>\n",
       "      <th>created_at</th>\n",
       "      <th>updated_at</th>\n",
       "    </tr>\n",
       "  </thead>\n",
       "  <tbody>\n",
       "    <tr>\n",
       "      <th>0</th>\n",
       "      <td>3527358</td>\n",
       "      <td>3f6aaad3-bab7-4886-b083-fe8c1f210066</td>\n",
       "      <td>31</td>\n",
       "      <td>transactional</td>\n",
       "      <td>1515915625489833514</td>\n",
       "      <td>email</td>\n",
       "      <td>NaN</td>\n",
       "      <td>NaN</td>\n",
       "      <td>mail.ru</td>\n",
       "      <td>desktop</td>\n",
       "      <td>...</td>\n",
       "      <td>f</td>\n",
       "      <td>NaN</td>\n",
       "      <td>f</td>\n",
       "      <td>NaN</td>\n",
       "      <td>f</td>\n",
       "      <td>NaN</td>\n",
       "      <td>t</td>\n",
       "      <td>2021-05-06 16:40:38</td>\n",
       "      <td>2023-04-27 08:55:05.883908</td>\n",
       "      <td>2023-04-27 08:57:33.080129</td>\n",
       "    </tr>\n",
       "    <tr>\n",
       "      <th>1</th>\n",
       "      <td>3527619</td>\n",
       "      <td>0e670ecc-4549-44f6-86ed-469682d34837</td>\n",
       "      <td>32</td>\n",
       "      <td>transactional</td>\n",
       "      <td>1515915625489220445</td>\n",
       "      <td>email</td>\n",
       "      <td>NaN</td>\n",
       "      <td>NaN</td>\n",
       "      <td>yandex.ru</td>\n",
       "      <td>desktop</td>\n",
       "      <td>...</td>\n",
       "      <td>f</td>\n",
       "      <td>NaN</td>\n",
       "      <td>f</td>\n",
       "      <td>NaN</td>\n",
       "      <td>f</td>\n",
       "      <td>NaN</td>\n",
       "      <td>f</td>\n",
       "      <td>NaN</td>\n",
       "      <td>2023-04-27 08:55:06.265821</td>\n",
       "      <td>2023-04-27 08:56:18.60223</td>\n",
       "    </tr>\n",
       "    <tr>\n",
       "      <th>2</th>\n",
       "      <td>3527980</td>\n",
       "      <td>276b25cf-1bda-4faf-b3a4-98e4161f9357</td>\n",
       "      <td>32</td>\n",
       "      <td>transactional</td>\n",
       "      <td>1515915625489854185</td>\n",
       "      <td>email</td>\n",
       "      <td>NaN</td>\n",
       "      <td>NaN</td>\n",
       "      <td>mail.ru</td>\n",
       "      <td>desktop</td>\n",
       "      <td>...</td>\n",
       "      <td>f</td>\n",
       "      <td>NaN</td>\n",
       "      <td>f</td>\n",
       "      <td>NaN</td>\n",
       "      <td>f</td>\n",
       "      <td>NaN</td>\n",
       "      <td>f</td>\n",
       "      <td>NaN</td>\n",
       "      <td>2023-04-27 08:55:06.777039</td>\n",
       "      <td>2023-04-27 08:56:19.112546</td>\n",
       "    </tr>\n",
       "    <tr>\n",
       "      <th>3</th>\n",
       "      <td>3528369</td>\n",
       "      <td>4545aff2-09b3-45e3-9abd-c680357e5429</td>\n",
       "      <td>32</td>\n",
       "      <td>transactional</td>\n",
       "      <td>1515915625489101550</td>\n",
       "      <td>email</td>\n",
       "      <td>NaN</td>\n",
       "      <td>NaN</td>\n",
       "      <td>mail.ru</td>\n",
       "      <td>desktop</td>\n",
       "      <td>...</td>\n",
       "      <td>f</td>\n",
       "      <td>NaN</td>\n",
       "      <td>f</td>\n",
       "      <td>NaN</td>\n",
       "      <td>f</td>\n",
       "      <td>NaN</td>\n",
       "      <td>f</td>\n",
       "      <td>NaN</td>\n",
       "      <td>2023-04-27 08:55:07.325906</td>\n",
       "      <td>2023-04-27 08:56:19.590637</td>\n",
       "    </tr>\n",
       "    <tr>\n",
       "      <th>4</th>\n",
       "      <td>3528648</td>\n",
       "      <td>5850858d-2dcf-4f31-a0d3-5db5649b17c4</td>\n",
       "      <td>32</td>\n",
       "      <td>transactional</td>\n",
       "      <td>1515915625490455948</td>\n",
       "      <td>email</td>\n",
       "      <td>NaN</td>\n",
       "      <td>NaN</td>\n",
       "      <td>mail.ru</td>\n",
       "      <td>desktop</td>\n",
       "      <td>...</td>\n",
       "      <td>f</td>\n",
       "      <td>NaN</td>\n",
       "      <td>f</td>\n",
       "      <td>NaN</td>\n",
       "      <td>f</td>\n",
       "      <td>NaN</td>\n",
       "      <td>f</td>\n",
       "      <td>NaN</td>\n",
       "      <td>2023-04-27 08:55:07.727792</td>\n",
       "      <td>2023-04-27 08:56:19.926474</td>\n",
       "    </tr>\n",
       "  </tbody>\n",
       "</table>\n",
       "<p>5 rows × 32 columns</p>\n",
       "</div>"
      ],
      "text/plain": [
       "        id                            message_id  campaign_id   message_type  \\\n",
       "0  3527358  3f6aaad3-bab7-4886-b083-fe8c1f210066           31  transactional   \n",
       "1  3527619  0e670ecc-4549-44f6-86ed-469682d34837           32  transactional   \n",
       "2  3527980  276b25cf-1bda-4faf-b3a4-98e4161f9357           32  transactional   \n",
       "3  3528369  4545aff2-09b3-45e3-9abd-c680357e5429           32  transactional   \n",
       "4  3528648  5850858d-2dcf-4f31-a0d3-5db5649b17c4           32  transactional   \n",
       "\n",
       "             client_id channel  category platform email_provider   stream  \\\n",
       "0  1515915625489833514   email       NaN      NaN        mail.ru  desktop   \n",
       "1  1515915625489220445   email       NaN      NaN      yandex.ru  desktop   \n",
       "2  1515915625489854185   email       NaN      NaN        mail.ru  desktop   \n",
       "3  1515915625489101550   email       NaN      NaN        mail.ru  desktop   \n",
       "4  1515915625490455948   email       NaN      NaN        mail.ru  desktop   \n",
       "\n",
       "   ... is_soft_bounced soft_bounced_at is_complained complained_at is_blocked  \\\n",
       "0  ...               f             NaN             f           NaN          f   \n",
       "1  ...               f             NaN             f           NaN          f   \n",
       "2  ...               f             NaN             f           NaN          f   \n",
       "3  ...               f             NaN             f           NaN          f   \n",
       "4  ...               f             NaN             f           NaN          f   \n",
       "\n",
       "  blocked_at is_purchased         purchased_at                  created_at  \\\n",
       "0        NaN            t  2021-05-06 16:40:38  2023-04-27 08:55:05.883908   \n",
       "1        NaN            f                  NaN  2023-04-27 08:55:06.265821   \n",
       "2        NaN            f                  NaN  2023-04-27 08:55:06.777039   \n",
       "3        NaN            f                  NaN  2023-04-27 08:55:07.325906   \n",
       "4        NaN            f                  NaN  2023-04-27 08:55:07.727792   \n",
       "\n",
       "                   updated_at  \n",
       "0  2023-04-27 08:57:33.080129  \n",
       "1   2023-04-27 08:56:18.60223  \n",
       "2  2023-04-27 08:56:19.112546  \n",
       "3  2023-04-27 08:56:19.590637  \n",
       "4  2023-04-27 08:56:19.926474  \n",
       "\n",
       "[5 rows x 32 columns]"
      ]
     },
     "execution_count": 20,
     "metadata": {},
     "output_type": "execute_result"
    }
   ],
   "source": [
    "data.head()"
   ]
  },
  {
   "cell_type": "code",
   "execution_count": 21,
   "metadata": {},
   "outputs": [
    {
     "name": "stdout",
     "output_type": "stream",
     "text": [
      "id                         int64\n",
      "message_id                object\n",
      "campaign_id                int64\n",
      "message_type              object\n",
      "client_id                  int64\n",
      "channel                   object\n",
      "category                 float64\n",
      "platform                  object\n",
      "email_provider            object\n",
      "stream                    object\n",
      "date                      object\n",
      "sent_at                   object\n",
      "is_opened                 object\n",
      "opened_first_time_at      object\n",
      "opened_last_time_at       object\n",
      "is_clicked                object\n",
      "clicked_first_time_at     object\n",
      "clicked_last_time_at      object\n",
      "is_unsubscribed           object\n",
      "unsubscribed_at           object\n",
      "is_hard_bounced           object\n",
      "hard_bounced_at           object\n",
      "is_soft_bounced           object\n",
      "soft_bounced_at           object\n",
      "is_complained             object\n",
      "complained_at             object\n",
      "is_blocked                object\n",
      "blocked_at               float64\n",
      "is_purchased              object\n",
      "purchased_at              object\n",
      "created_at                object\n",
      "updated_at                object\n",
      "dtype: object\n"
     ]
    }
   ],
   "source": [
    "data_colums = data.dtypes\n",
    "print(data_colums)"
   ]
  },
  {
   "cell_type": "code",
   "execution_count": 22,
   "metadata": {},
   "outputs": [],
   "source": [
    "# # Elasticsearch 서버 연결\n",
    "es = Elasticsearch([{'host': 'localhost', 'port': 9200, 'scheme': 'http'}])"
   ]
  },
  {
   "cell_type": "code",
   "execution_count": 23,
   "metadata": {},
   "outputs": [
    {
     "name": "stdout",
     "output_type": "stream",
     "text": [
      "Elasticsearch 서버에 성공적으로 연결되었습니다.\n"
     ]
    }
   ],
   "source": [
    "# Elasticsearch 서버에 ping 요청 보내기\n",
    "if es.ping():\n",
    "    print(\"Elasticsearch 서버에 성공적으로 연결되었습니다.\")\n",
    "else:\n",
    "    print(\"Elasticsearch 서버에 연결하지 못했습니다.\")"
   ]
  },
  {
   "cell_type": "code",
   "execution_count": 24,
   "metadata": {},
   "outputs": [],
   "source": [
    "# 인덱스가 이미 존재하는 경우 삭제\n",
    "if es.indices.exists(index=\"e_messages_demo\"):\n",
    "    es.indices.delete(index=\"e_messages_demo\")"
   ]
  },
  {
   "cell_type": "code",
   "execution_count": 25,
   "metadata": {},
   "outputs": [],
   "source": [
    "# Elasticsearch 인덱스 매핑 설정\n",
    "e_messages_demo = 'e_messages_demo'  # 원하는 색인명으로 변경\n",
    "\n",
    "# 인덱스 매핑 설정\n",
    "mapping = {\n",
    "    \"mappings\": {\n",
    "        \"properties\": {\n",
    "            \"id\": {\"type\": \"integer\"},\n",
    "            \"message_id\": {\"type\": \"keyword\"},\n",
    "            \"campaign_id\": {\"type\": \"integer\"},\n",
    "            \"message_type\": {\"type\": \"keyword\"},\n",
    "            \"client_id\": {\"type\": \"integer\"},\n",
    "            \"channel\": {\"type\": \"keyword\"},\n",
    "            \"category\": {\"type\": \"float\"},\n",
    "            \"platform\": {\"type\": \"keyword\"},\n",
    "            \"email_provider\": {\"type\": \"keyword\"},\n",
    "            \"stream\": {\"type\": \"keyword\"},\n",
    "            \"date\": {\"type\": \"date\", \"format\": \"yyyy-MM-dd\"},\n",
    "            \"sent_at\": {\"type\": \"date\", \"format\": \"yyyy-MM-dd HH:mm:ss\"},\n",
    "            \"is_opened\": {\"type\": \"boolean\"},\n",
    "            \"opened_first_time_at\": {\"type\": \"date\", \"format\": \"yyyy-MM-dd HH:mm:ss\"},\n",
    "            \"opened_last_time_at\": {\"type\": \"date\", \"format\": \"yyyy-MM-dd HH:mm:ss\"},\n",
    "            \"is_clicked\": {\"type\": \"boolean\"},\n",
    "            \"clicked_first_time_at\": {\"type\": \"date\", \"format\": \"yyyy-MM-dd HH:mm:ss\"},\n",
    "            \"clicked_last_time_at\": {\"type\": \"date\", \"format\": \"yyyy-MM-dd HH:mm:ss\"},\n",
    "            \"is_unsubscribed\": {\"type\": \"boolean\"},\n",
    "            \"unsubscribed_at\": {\"type\": \"date\", \"format\": \"yyyy-MM-dd HH:mm:ss\"},\n",
    "            \"is_hard_bounced\": {\"type\": \"boolean\"},\n",
    "            \"hard_bounced_at\": {\"type\": \"date\", \"format\": \"yyyy-MM-dd HH:mm:ss\"},\n",
    "            \"is_soft_bounced\": {\"type\": \"boolean\"},\n",
    "            \"soft_bounced_at\": {\"type\": \"date\", \"format\": \"yyyy-MM-dd HH:mm:ss\"},\n",
    "            \"is_complained\": {\"type\": \"boolean\"},\n",
    "            \"complained_at\": {\"type\": \"date\", \"format\": \"yyyy-MM-dd HH:mm:ss\"},\n",
    "            \"is_blocked\": {\"type\": \"boolean\"},\n",
    "            \"blocked_at\": {\"type\": \"date\", \"format\": \"yyyy-MM-dd HH:mm:ss\"},\n",
    "            \"is_purchased\": {\"type\": \"boolean\"},\n",
    "            \"purchased_at\": {\"type\": \"date\", \"format\": \"yyyy-MM-dd HH:mm:ss\"},\n",
    "            \"created_at\": {\"type\": \"date\", \"format\": \"yyyy-MM-dd HH:mm:ss\"},\n",
    "            \"updated_at\": {\"type\": \"date\", \"format\": \"yyyy-MM-dd HH:mm:ss\"}\n",
    "        }\n",
    "    }\n",
    "}"
   ]
  },
  {
   "cell_type": "code",
   "execution_count": 26,
   "metadata": {},
   "outputs": [
    {
     "name": "stderr",
     "output_type": "stream",
     "text": [
      "/tmp/ipykernel_302862/1785842353.py:2: DeprecationWarning: Passing transport options in the API method is deprecated. Use 'Elasticsearch.options()' instead.\n",
      "  es.indices.create(index=\"e_messages_demo\", body=mapping, ignore=400)\n"
     ]
    },
    {
     "data": {
      "text/plain": [
       "ObjectApiResponse({'acknowledged': True, 'shards_acknowledged': True, 'index': 'e_messages_demo'})"
      ]
     },
     "execution_count": 26,
     "metadata": {},
     "output_type": "execute_result"
    }
   ],
   "source": [
    "# 인덱스 생성\n",
    "es.indices.create(index=\"e_messages_demo\", body=mapping, ignore=400)"
   ]
  },
  {
   "cell_type": "code",
   "execution_count": 27,
   "metadata": {},
   "outputs": [
    {
     "name": "stderr",
     "output_type": "stream",
     "text": [
      "/tmp/ipykernel_302862/692947945.py:2: DeprecationWarning: Passing transport options in the API method is deprecated. Use 'Elasticsearch.options()' instead.\n",
      "  es.indices.delete(index=\"e_messages_demo\", ignore=[400, 404])\n"
     ]
    },
    {
     "data": {
      "text/plain": [
       "ObjectApiResponse({'acknowledged': True})"
      ]
     },
     "execution_count": 27,
     "metadata": {},
     "output_type": "execute_result"
    }
   ],
   "source": [
    "# Elasticsearch에 이미 색인된 데이터 삭제\n",
    "es.indices.delete(index=\"e_messages_demo\", ignore=[400, 404])"
   ]
  },
  {
   "cell_type": "code",
   "execution_count": 28,
   "metadata": {},
   "outputs": [
    {
     "name": "stdout",
     "output_type": "stream",
     "text": [
      "Indexed 5000 documents successfully.\n",
      "Indexed 10000 documents successfully.\n",
      "Indexed 15000 documents successfully.\n",
      "Indexed 20000 documents successfully.\n",
      "Indexed 25000 documents successfully.\n",
      "Indexed 30000 documents successfully.\n",
      "Indexed 35000 documents successfully.\n",
      "Indexed 40000 documents successfully.\n",
      "Indexed 45000 documents successfully.\n",
      "Indexed 50000 documents successfully.\n",
      "Indexed 55000 documents successfully.\n",
      "Indexed 60000 documents successfully.\n",
      "Indexed 65000 documents successfully.\n",
      "Indexed 70000 documents successfully.\n",
      "Indexed 75000 documents successfully.\n",
      "Indexed 80000 documents successfully.\n",
      "Indexed 85000 documents successfully.\n",
      "Indexed 90000 documents successfully.\n",
      "Indexed 95000 documents successfully.\n",
      "Indexed 100000 documents successfully.\n",
      "Indexed 105000 documents successfully.\n"
     ]
    },
    {
     "ename": "KeyboardInterrupt",
     "evalue": "",
     "output_type": "error",
     "traceback": [
      "\u001b[0;31m---------------------------------------------------------------------------\u001b[0m",
      "\u001b[0;31mKeyboardInterrupt\u001b[0m                         Traceback (most recent call last)",
      "Cell \u001b[0;32mIn[28], line 25\u001b[0m\n\u001b[1;32m     23\u001b[0m \u001b[38;5;66;03m# Elasticsearch에 색인\u001b[39;00m\n\u001b[1;32m     24\u001b[0m \u001b[38;5;28;01mtry\u001b[39;00m:\n\u001b[0;32m---> 25\u001b[0m     success, failed \u001b[38;5;241m=\u001b[39m \u001b[43mbulk\u001b[49m\u001b[43m(\u001b[49m\u001b[43mes\u001b[49m\u001b[43m,\u001b[49m\u001b[43m \u001b[49m\u001b[43mdocuments\u001b[49m\u001b[43m)\u001b[49m\n\u001b[1;32m     26\u001b[0m     \u001b[38;5;28mprint\u001b[39m(\u001b[38;5;124mf\u001b[39m\u001b[38;5;124m\"\u001b[39m\u001b[38;5;124mIndexed \u001b[39m\u001b[38;5;132;01m{\u001b[39;00msuccess\u001b[38;5;132;01m}\u001b[39;00m\u001b[38;5;124m documents successfully.\u001b[39m\u001b[38;5;124m\"\u001b[39m)\n\u001b[1;32m     27\u001b[0m     \u001b[38;5;28;01mif\u001b[39;00m failed:\n",
      "File \u001b[0;32m~/.pyenv/versions/3.8.18/lib/python3.8/site-packages/elasticsearch/helpers/actions.py:521\u001b[0m, in \u001b[0;36mbulk\u001b[0;34m(client, actions, stats_only, ignore_status, *args, **kwargs)\u001b[0m\n\u001b[1;32m    519\u001b[0m \u001b[38;5;66;03m# make streaming_bulk yield successful results so we can count them\u001b[39;00m\n\u001b[1;32m    520\u001b[0m kwargs[\u001b[38;5;124m\"\u001b[39m\u001b[38;5;124myield_ok\u001b[39m\u001b[38;5;124m\"\u001b[39m] \u001b[38;5;241m=\u001b[39m \u001b[38;5;28;01mTrue\u001b[39;00m\n\u001b[0;32m--> 521\u001b[0m \u001b[38;5;28;01mfor\u001b[39;00m ok, item \u001b[38;5;129;01min\u001b[39;00m streaming_bulk(\n\u001b[1;32m    522\u001b[0m     client, actions, ignore_status\u001b[38;5;241m=\u001b[39mignore_status, \u001b[38;5;241m*\u001b[39margs, \u001b[38;5;241m*\u001b[39m\u001b[38;5;241m*\u001b[39mkwargs  \u001b[38;5;66;03m# type: ignore[misc]\u001b[39;00m\n\u001b[1;32m    523\u001b[0m ):\n\u001b[1;32m    524\u001b[0m     \u001b[38;5;66;03m# go through request-response pairs and detect failures\u001b[39;00m\n\u001b[1;32m    525\u001b[0m     \u001b[38;5;28;01mif\u001b[39;00m \u001b[38;5;129;01mnot\u001b[39;00m ok:\n\u001b[1;32m    526\u001b[0m         \u001b[38;5;28;01mif\u001b[39;00m \u001b[38;5;129;01mnot\u001b[39;00m stats_only:\n",
      "File \u001b[0;32m~/.pyenv/versions/3.8.18/lib/python3.8/site-packages/elasticsearch/helpers/actions.py:421\u001b[0m, in \u001b[0;36mstreaming_bulk\u001b[0;34m(client, actions, chunk_size, max_chunk_bytes, raise_on_error, expand_action_callback, raise_on_exception, max_retries, initial_backoff, max_backoff, yield_ok, ignore_status, *args, **kwargs)\u001b[0m\n\u001b[1;32m    414\u001b[0m bulk_data: List[\n\u001b[1;32m    415\u001b[0m     Union[\n\u001b[1;32m    416\u001b[0m         Tuple[_TYPE_BULK_ACTION_HEADER],\n\u001b[1;32m    417\u001b[0m         Tuple[_TYPE_BULK_ACTION_HEADER, _TYPE_BULK_ACTION_BODY],\n\u001b[1;32m    418\u001b[0m     ]\n\u001b[1;32m    419\u001b[0m ]\n\u001b[1;32m    420\u001b[0m bulk_actions: List[\u001b[38;5;28mbytes\u001b[39m]\n\u001b[0;32m--> 421\u001b[0m \u001b[38;5;28;01mfor\u001b[39;00m bulk_data, bulk_actions \u001b[38;5;129;01min\u001b[39;00m _chunk_actions(\n\u001b[1;32m    422\u001b[0m     \u001b[38;5;28mmap\u001b[39m(expand_action_callback, actions), chunk_size, max_chunk_bytes, serializer\n\u001b[1;32m    423\u001b[0m ):\n\u001b[1;32m    424\u001b[0m     \u001b[38;5;28;01mfor\u001b[39;00m attempt \u001b[38;5;129;01min\u001b[39;00m \u001b[38;5;28mrange\u001b[39m(max_retries \u001b[38;5;241m+\u001b[39m \u001b[38;5;241m1\u001b[39m):\n\u001b[1;32m    425\u001b[0m         to_retry: List[\u001b[38;5;28mbytes\u001b[39m] \u001b[38;5;241m=\u001b[39m []\n",
      "File \u001b[0;32m~/.pyenv/versions/3.8.18/lib/python3.8/site-packages/elasticsearch/helpers/actions.py:233\u001b[0m, in \u001b[0;36m_chunk_actions\u001b[0;34m(actions, chunk_size, max_chunk_bytes, serializer)\u001b[0m\n\u001b[1;32m    229\u001b[0m chunker \u001b[38;5;241m=\u001b[39m _ActionChunker(\n\u001b[1;32m    230\u001b[0m     chunk_size\u001b[38;5;241m=\u001b[39mchunk_size, max_chunk_bytes\u001b[38;5;241m=\u001b[39mmax_chunk_bytes, serializer\u001b[38;5;241m=\u001b[39mserializer\n\u001b[1;32m    231\u001b[0m )\n\u001b[1;32m    232\u001b[0m \u001b[38;5;28;01mfor\u001b[39;00m action, data \u001b[38;5;129;01min\u001b[39;00m actions:\n\u001b[0;32m--> 233\u001b[0m     ret \u001b[38;5;241m=\u001b[39m \u001b[43mchunker\u001b[49m\u001b[38;5;241;43m.\u001b[39;49m\u001b[43mfeed\u001b[49m\u001b[43m(\u001b[49m\u001b[43maction\u001b[49m\u001b[43m,\u001b[49m\u001b[43m \u001b[49m\u001b[43mdata\u001b[49m\u001b[43m)\u001b[49m\n\u001b[1;32m    234\u001b[0m     \u001b[38;5;28;01mif\u001b[39;00m ret:\n\u001b[1;32m    235\u001b[0m         \u001b[38;5;28;01myield\u001b[39;00m ret\n",
      "File \u001b[0;32m~/.pyenv/versions/3.8.18/lib/python3.8/site-packages/elasticsearch/helpers/actions.py:161\u001b[0m, in \u001b[0;36m_ActionChunker.feed\u001b[0;34m(self, action, data)\u001b[0m\n\u001b[1;32m    159\u001b[0m data_bytes: Optional[\u001b[38;5;28mbytes\u001b[39m]\n\u001b[1;32m    160\u001b[0m \u001b[38;5;28;01mif\u001b[39;00m data \u001b[38;5;129;01mis\u001b[39;00m \u001b[38;5;129;01mnot\u001b[39;00m \u001b[38;5;28;01mNone\u001b[39;00m:\n\u001b[0;32m--> 161\u001b[0m     data_bytes \u001b[38;5;241m=\u001b[39m to_bytes(\u001b[38;5;28;43mself\u001b[39;49m\u001b[38;5;241;43m.\u001b[39;49m\u001b[43mserializer\u001b[49m\u001b[38;5;241;43m.\u001b[39;49m\u001b[43mdumps\u001b[49m\u001b[43m(\u001b[49m\u001b[43mdata\u001b[49m\u001b[43m)\u001b[49m, \u001b[38;5;124m\"\u001b[39m\u001b[38;5;124mutf-8\u001b[39m\u001b[38;5;124m\"\u001b[39m)\n\u001b[1;32m    162\u001b[0m     cur_size \u001b[38;5;241m+\u001b[39m\u001b[38;5;241m=\u001b[39m \u001b[38;5;28mlen\u001b[39m(data_bytes) \u001b[38;5;241m+\u001b[39m \u001b[38;5;241m1\u001b[39m\n\u001b[1;32m    163\u001b[0m \u001b[38;5;28;01melse\u001b[39;00m:\n",
      "File \u001b[0;32m~/.pyenv/versions/3.8.18/lib/python3.8/site-packages/elastic_transport/_serializer.py:108\u001b[0m, in \u001b[0;36mJsonSerializer.dumps\u001b[0;34m(self, data)\u001b[0m\n\u001b[1;32m    105\u001b[0m     \u001b[38;5;28;01mreturn\u001b[39;00m data\n\u001b[1;32m    107\u001b[0m \u001b[38;5;28;01mtry\u001b[39;00m:\n\u001b[0;32m--> 108\u001b[0m     \u001b[38;5;28;01mreturn\u001b[39;00m \u001b[38;5;28;43mself\u001b[39;49m\u001b[38;5;241;43m.\u001b[39;49m\u001b[43mjson_dumps\u001b[49m\u001b[43m(\u001b[49m\u001b[43mdata\u001b[49m\u001b[43m)\u001b[49m\n\u001b[1;32m    109\u001b[0m \u001b[38;5;66;03m# This should be captured by the .default()\u001b[39;00m\n\u001b[1;32m    110\u001b[0m \u001b[38;5;66;03m# call but just in case we also wrap these.\u001b[39;00m\n\u001b[1;32m    111\u001b[0m \u001b[38;5;28;01mexcept\u001b[39;00m (\u001b[38;5;167;01mValueError\u001b[39;00m, \u001b[38;5;167;01mUnicodeError\u001b[39;00m, \u001b[38;5;167;01mTypeError\u001b[39;00m) \u001b[38;5;28;01mas\u001b[39;00m e:  \u001b[38;5;66;03m# pragma: nocover\u001b[39;00m\n",
      "File \u001b[0;32m~/.pyenv/versions/3.8.18/lib/python3.8/site-packages/elastic_transport/_serializer.py:79\u001b[0m, in \u001b[0;36mJsonSerializer.json_dumps\u001b[0;34m(self, data)\u001b[0m\n\u001b[1;32m     78\u001b[0m \u001b[38;5;28;01mdef\u001b[39;00m \u001b[38;5;21mjson_dumps\u001b[39m(\u001b[38;5;28mself\u001b[39m, data: Any) \u001b[38;5;241m-\u001b[39m\u001b[38;5;241m>\u001b[39m \u001b[38;5;28mbytes\u001b[39m:\n\u001b[0;32m---> 79\u001b[0m     \u001b[38;5;28;01mreturn\u001b[39;00m \u001b[43mjson\u001b[49m\u001b[38;5;241;43m.\u001b[39;49m\u001b[43mdumps\u001b[49m\u001b[43m(\u001b[49m\n\u001b[1;32m     80\u001b[0m \u001b[43m        \u001b[49m\u001b[43mdata\u001b[49m\u001b[43m,\u001b[49m\u001b[43m \u001b[49m\u001b[43mdefault\u001b[49m\u001b[38;5;241;43m=\u001b[39;49m\u001b[38;5;28;43mself\u001b[39;49m\u001b[38;5;241;43m.\u001b[39;49m\u001b[43mdefault\u001b[49m\u001b[43m,\u001b[49m\u001b[43m \u001b[49m\u001b[43mensure_ascii\u001b[49m\u001b[38;5;241;43m=\u001b[39;49m\u001b[38;5;28;43;01mFalse\u001b[39;49;00m\u001b[43m,\u001b[49m\u001b[43m \u001b[49m\u001b[43mseparators\u001b[49m\u001b[38;5;241;43m=\u001b[39;49m\u001b[43m(\u001b[49m\u001b[38;5;124;43m\"\u001b[39;49m\u001b[38;5;124;43m,\u001b[39;49m\u001b[38;5;124;43m\"\u001b[39;49m\u001b[43m,\u001b[49m\u001b[43m \u001b[49m\u001b[38;5;124;43m\"\u001b[39;49m\u001b[38;5;124;43m:\u001b[39;49m\u001b[38;5;124;43m\"\u001b[39;49m\u001b[43m)\u001b[49m\n\u001b[1;32m     81\u001b[0m \u001b[43m    \u001b[49m\u001b[43m)\u001b[49m\u001b[38;5;241m.\u001b[39mencode(\u001b[38;5;124m\"\u001b[39m\u001b[38;5;124mutf-8\u001b[39m\u001b[38;5;124m\"\u001b[39m, \u001b[38;5;124m\"\u001b[39m\u001b[38;5;124msurrogatepass\u001b[39m\u001b[38;5;124m\"\u001b[39m)\n",
      "File \u001b[0;32m~/.pyenv/versions/3.8.18/lib/python3.8/json/__init__.py:234\u001b[0m, in \u001b[0;36mdumps\u001b[0;34m(obj, skipkeys, ensure_ascii, check_circular, allow_nan, cls, indent, separators, default, sort_keys, **kw)\u001b[0m\n\u001b[1;32m    232\u001b[0m \u001b[38;5;28;01mif\u001b[39;00m \u001b[38;5;28mcls\u001b[39m \u001b[38;5;129;01mis\u001b[39;00m \u001b[38;5;28;01mNone\u001b[39;00m:\n\u001b[1;32m    233\u001b[0m     \u001b[38;5;28mcls\u001b[39m \u001b[38;5;241m=\u001b[39m JSONEncoder\n\u001b[0;32m--> 234\u001b[0m \u001b[38;5;28;01mreturn\u001b[39;00m \u001b[38;5;28;43mcls\u001b[39;49m\u001b[43m(\u001b[49m\n\u001b[1;32m    235\u001b[0m \u001b[43m    \u001b[49m\u001b[43mskipkeys\u001b[49m\u001b[38;5;241;43m=\u001b[39;49m\u001b[43mskipkeys\u001b[49m\u001b[43m,\u001b[49m\u001b[43m \u001b[49m\u001b[43mensure_ascii\u001b[49m\u001b[38;5;241;43m=\u001b[39;49m\u001b[43mensure_ascii\u001b[49m\u001b[43m,\u001b[49m\n\u001b[1;32m    236\u001b[0m \u001b[43m    \u001b[49m\u001b[43mcheck_circular\u001b[49m\u001b[38;5;241;43m=\u001b[39;49m\u001b[43mcheck_circular\u001b[49m\u001b[43m,\u001b[49m\u001b[43m \u001b[49m\u001b[43mallow_nan\u001b[49m\u001b[38;5;241;43m=\u001b[39;49m\u001b[43mallow_nan\u001b[49m\u001b[43m,\u001b[49m\u001b[43m \u001b[49m\u001b[43mindent\u001b[49m\u001b[38;5;241;43m=\u001b[39;49m\u001b[43mindent\u001b[49m\u001b[43m,\u001b[49m\n\u001b[1;32m    237\u001b[0m \u001b[43m    \u001b[49m\u001b[43mseparators\u001b[49m\u001b[38;5;241;43m=\u001b[39;49m\u001b[43mseparators\u001b[49m\u001b[43m,\u001b[49m\u001b[43m \u001b[49m\u001b[43mdefault\u001b[49m\u001b[38;5;241;43m=\u001b[39;49m\u001b[43mdefault\u001b[49m\u001b[43m,\u001b[49m\u001b[43m \u001b[49m\u001b[43msort_keys\u001b[49m\u001b[38;5;241;43m=\u001b[39;49m\u001b[43msort_keys\u001b[49m\u001b[43m,\u001b[49m\n\u001b[1;32m    238\u001b[0m \u001b[43m    \u001b[49m\u001b[38;5;241;43m*\u001b[39;49m\u001b[38;5;241;43m*\u001b[39;49m\u001b[43mkw\u001b[49m\u001b[43m)\u001b[49m\u001b[38;5;241;43m.\u001b[39;49m\u001b[43mencode\u001b[49m\u001b[43m(\u001b[49m\u001b[43mobj\u001b[49m\u001b[43m)\u001b[49m\n",
      "File \u001b[0;32m~/.pyenv/versions/3.8.18/lib/python3.8/json/encoder.py:199\u001b[0m, in \u001b[0;36mJSONEncoder.encode\u001b[0;34m(self, o)\u001b[0m\n\u001b[1;32m    195\u001b[0m         \u001b[38;5;28;01mreturn\u001b[39;00m encode_basestring(o)\n\u001b[1;32m    196\u001b[0m \u001b[38;5;66;03m# This doesn't pass the iterator directly to ''.join() because the\u001b[39;00m\n\u001b[1;32m    197\u001b[0m \u001b[38;5;66;03m# exceptions aren't as detailed.  The list call should be roughly\u001b[39;00m\n\u001b[1;32m    198\u001b[0m \u001b[38;5;66;03m# equivalent to the PySequence_Fast that ''.join() would do.\u001b[39;00m\n\u001b[0;32m--> 199\u001b[0m chunks \u001b[38;5;241m=\u001b[39m \u001b[38;5;28;43mself\u001b[39;49m\u001b[38;5;241;43m.\u001b[39;49m\u001b[43miterencode\u001b[49m\u001b[43m(\u001b[49m\u001b[43mo\u001b[49m\u001b[43m,\u001b[49m\u001b[43m \u001b[49m\u001b[43m_one_shot\u001b[49m\u001b[38;5;241;43m=\u001b[39;49m\u001b[38;5;28;43;01mTrue\u001b[39;49;00m\u001b[43m)\u001b[49m\n\u001b[1;32m    200\u001b[0m \u001b[38;5;28;01mif\u001b[39;00m \u001b[38;5;129;01mnot\u001b[39;00m \u001b[38;5;28misinstance\u001b[39m(chunks, (\u001b[38;5;28mlist\u001b[39m, \u001b[38;5;28mtuple\u001b[39m)):\n\u001b[1;32m    201\u001b[0m     chunks \u001b[38;5;241m=\u001b[39m \u001b[38;5;28mlist\u001b[39m(chunks)\n",
      "File \u001b[0;32m~/.pyenv/versions/3.8.18/lib/python3.8/json/encoder.py:257\u001b[0m, in \u001b[0;36mJSONEncoder.iterencode\u001b[0;34m(self, o, _one_shot)\u001b[0m\n\u001b[1;32m    252\u001b[0m \u001b[38;5;28;01melse\u001b[39;00m:\n\u001b[1;32m    253\u001b[0m     _iterencode \u001b[38;5;241m=\u001b[39m _make_iterencode(\n\u001b[1;32m    254\u001b[0m         markers, \u001b[38;5;28mself\u001b[39m\u001b[38;5;241m.\u001b[39mdefault, _encoder, \u001b[38;5;28mself\u001b[39m\u001b[38;5;241m.\u001b[39mindent, floatstr,\n\u001b[1;32m    255\u001b[0m         \u001b[38;5;28mself\u001b[39m\u001b[38;5;241m.\u001b[39mkey_separator, \u001b[38;5;28mself\u001b[39m\u001b[38;5;241m.\u001b[39mitem_separator, \u001b[38;5;28mself\u001b[39m\u001b[38;5;241m.\u001b[39msort_keys,\n\u001b[1;32m    256\u001b[0m         \u001b[38;5;28mself\u001b[39m\u001b[38;5;241m.\u001b[39mskipkeys, _one_shot)\n\u001b[0;32m--> 257\u001b[0m \u001b[38;5;28;01mreturn\u001b[39;00m \u001b[43m_iterencode\u001b[49m\u001b[43m(\u001b[49m\u001b[43mo\u001b[49m\u001b[43m,\u001b[49m\u001b[43m \u001b[49m\u001b[38;5;241;43m0\u001b[39;49m\u001b[43m)\u001b[49m\n",
      "\u001b[0;31mKeyboardInterrupt\u001b[0m: "
     ]
    }
   ],
   "source": [
    "# documents 리스트 초기화\n",
    "documents = []\n",
    "\n",
    "# 각 청크에 대한 처리\n",
    "for chunk in chunks:\n",
    "    for _, row in chunk.iterrows():\n",
    "        document = row.to_dict()\n",
    "\n",
    "        # NaN이 아닌 경우에만 날짜를 ISO 형식으로 변환\n",
    "        for key, value in document.items():\n",
    "            if pd.notna(value) and key.endswith('_at'):\n",
    "                document[key] = pd.to_datetime(value).isoformat()\n",
    "\n",
    "        # NaN을 None으로 대체\n",
    "        document = {key: (None if pd.isna(value) else value) for key, value in document.items()}\n",
    "\n",
    "        documents.append({\n",
    "            \"_op_type\": \"index\",\n",
    "            \"_index\": e_messages_demo,\n",
    "            \"_source\": document\n",
    "        })\n",
    "\n",
    "    # Elasticsearch에 색인\n",
    "    try:\n",
    "        success, failed = bulk(es, documents)\n",
    "        print(f\"Indexed {success} documents successfully.\")\n",
    "        if failed:\n",
    "            for i, failure in enumerate(failed):\n",
    "                print(f\"Failed to index document {i + 1}: {failure}\")\n",
    "    except BulkIndexError as e:\n",
    "        print(f\"Error indexing documents: {e}\")\n",
    "\n",
    "print(\"색인이 완료되었습니다.\")"
   ]
  }
 ],
 "metadata": {
  "kernelspec": {
   "display_name": "Python 3",
   "language": "python",
   "name": "python3"
  },
  "language_info": {
   "codemirror_mode": {
    "name": "ipython",
    "version": 3
   },
   "file_extension": ".py",
   "mimetype": "text/x-python",
   "name": "python",
   "nbconvert_exporter": "python",
   "pygments_lexer": "ipython3",
   "version": "3.8.18"
  }
 },
 "nbformat": 4,
 "nbformat_minor": 2
}

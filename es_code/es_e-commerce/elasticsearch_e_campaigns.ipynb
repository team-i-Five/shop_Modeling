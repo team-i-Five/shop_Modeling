{
 "cells": [
  {
   "cell_type": "markdown",
   "metadata": {},
   "source": [
    "### 마케팅 활동에 대한 분석을 수행하기 위한 2년(2021-2023) 동안 중간 규모 온라인 스토어의 멀티 채널 메시지가 포함된 이커머스 여러채널 다이렉트 메시지 데이터"
   ]
  },
  {
   "cell_type": "code",
   "execution_count": 185,
   "metadata": {},
   "outputs": [],
   "source": [
    "import pandas as pd\n",
    "from elasticsearch import Elasticsearch\n",
    "from elasticsearch.helpers import bulk, BulkIndexError"
   ]
  },
  {
   "cell_type": "code",
   "execution_count": 171,
   "metadata": {},
   "outputs": [],
   "source": [
    "# 데이터 읽기\n",
    "campaigns_path = r\"C:\\Users\\SEC\\Desktop\\부트캠프\\shopping_i-five\\archive\\campaigns.csv\"\n",
    "campaigns = pd.read_csv(campaigns_path)"
   ]
  },
  {
   "cell_type": "code",
   "execution_count": 172,
   "metadata": {},
   "outputs": [
    {
     "name": "stdout",
     "output_type": "stream",
     "text": [
      "데이터프레임의 크기: (1907, 19)\n"
     ]
    }
   ],
   "source": [
    "# 데이터프레임의 크기 확인\n",
    "print(\"데이터프레임의 크기:\", campaigns.shape)"
   ]
  },
  {
   "cell_type": "code",
   "execution_count": 173,
   "metadata": {},
   "outputs": [],
   "source": [
    "# NaN 값을 적절한 기본값으로 대체\n",
    "campaigns['started_at'].fillna('1970-01-01', inplace=True)\n",
    "campaigns['finished_at'].fillna('1970-01-01', inplace=True)"
   ]
  },
  {
   "cell_type": "code",
   "execution_count": 174,
   "metadata": {},
   "outputs": [],
   "source": [
    "# total_count, ab_test, warmup_mode, hour_limit, is_test, position에 대한 NaN 값 처리\n",
    "campaigns['total_count'].fillna(0, inplace=True)  # 0으로 대체 또는 다른 적절한 값 사용\n",
    "campaigns['ab_test'].fillna(False, inplace=True)  # False로 대체 또는 다른 적절한 값 사용\n",
    "campaigns['warmup_mode'].fillna(False, inplace=True)  # False로 대체 또는 다른 적절한 값 사용\n",
    "campaigns['hour_limit'].fillna(0, inplace=True)  # 0으로 대체 또는 다른 적절한 값 사용\n",
    "campaigns['is_test'].fillna(False, inplace=True)  # False로 대체 또는 다른 적절한 값 사용\n",
    "campaigns['position'].fillna(0, inplace=True)  # 0으로 대체 또는 다른 적절한 값 사용\n",
    "\n",
    "# subject_with_personalization, subject_with_deadline, subject_with_emoji,\n",
    "# subject_with_bonuses, subject_with_discount, subject_with_saleout를 boolean 값으로 변환\n",
    "boolean_columns = ['subject_with_personalization', 'subject_with_deadline', 'subject_with_emoji',\n",
    "                   'subject_with_bonuses', 'subject_with_discount', 'subject_with_saleout']\n",
    "campaigns[boolean_columns] = campaigns[boolean_columns].astype(bool)"
   ]
  },
  {
   "cell_type": "code",
   "execution_count": 175,
   "metadata": {},
   "outputs": [
    {
     "data": {
      "text/html": [
       "<div>\n",
       "<style scoped>\n",
       "    .dataframe tbody tr th:only-of-type {\n",
       "        vertical-align: middle;\n",
       "    }\n",
       "\n",
       "    .dataframe tbody tr th {\n",
       "        vertical-align: top;\n",
       "    }\n",
       "\n",
       "    .dataframe thead th {\n",
       "        text-align: right;\n",
       "    }\n",
       "</style>\n",
       "<table border=\"1\" class=\"dataframe\">\n",
       "  <thead>\n",
       "    <tr style=\"text-align: right;\">\n",
       "      <th></th>\n",
       "      <th>id</th>\n",
       "      <th>campaign_type</th>\n",
       "      <th>channel</th>\n",
       "      <th>topic</th>\n",
       "      <th>started_at</th>\n",
       "      <th>finished_at</th>\n",
       "      <th>total_count</th>\n",
       "      <th>ab_test</th>\n",
       "      <th>warmup_mode</th>\n",
       "      <th>hour_limit</th>\n",
       "      <th>subject_length</th>\n",
       "      <th>subject_with_personalization</th>\n",
       "      <th>subject_with_deadline</th>\n",
       "      <th>subject_with_emoji</th>\n",
       "      <th>subject_with_bonuses</th>\n",
       "      <th>subject_with_discount</th>\n",
       "      <th>subject_with_saleout</th>\n",
       "      <th>is_test</th>\n",
       "      <th>position</th>\n",
       "    </tr>\n",
       "  </thead>\n",
       "  <tbody>\n",
       "    <tr>\n",
       "      <th>1902</th>\n",
       "      <td>179</td>\n",
       "      <td>transactional</td>\n",
       "      <td>email</td>\n",
       "      <td>profile updated</td>\n",
       "      <td>1970-01-01</td>\n",
       "      <td>1970-01-01</td>\n",
       "      <td>0.0</td>\n",
       "      <td>False</td>\n",
       "      <td>False</td>\n",
       "      <td>0.0</td>\n",
       "      <td>134.0</td>\n",
       "      <td>False</td>\n",
       "      <td>False</td>\n",
       "      <td>False</td>\n",
       "      <td>False</td>\n",
       "      <td>False</td>\n",
       "      <td>False</td>\n",
       "      <td>False</td>\n",
       "      <td>0.0</td>\n",
       "    </tr>\n",
       "    <tr>\n",
       "      <th>1903</th>\n",
       "      <td>35</td>\n",
       "      <td>transactional</td>\n",
       "      <td>email</td>\n",
       "      <td>order reminder</td>\n",
       "      <td>1970-01-01</td>\n",
       "      <td>1970-01-01</td>\n",
       "      <td>0.0</td>\n",
       "      <td>False</td>\n",
       "      <td>False</td>\n",
       "      <td>0.0</td>\n",
       "      <td>88.0</td>\n",
       "      <td>False</td>\n",
       "      <td>False</td>\n",
       "      <td>False</td>\n",
       "      <td>False</td>\n",
       "      <td>False</td>\n",
       "      <td>False</td>\n",
       "      <td>False</td>\n",
       "      <td>0.0</td>\n",
       "    </tr>\n",
       "    <tr>\n",
       "      <th>1904</th>\n",
       "      <td>57</td>\n",
       "      <td>transactional</td>\n",
       "      <td>email</td>\n",
       "      <td>order reminder</td>\n",
       "      <td>1970-01-01</td>\n",
       "      <td>1970-01-01</td>\n",
       "      <td>0.0</td>\n",
       "      <td>False</td>\n",
       "      <td>False</td>\n",
       "      <td>0.0</td>\n",
       "      <td>88.0</td>\n",
       "      <td>False</td>\n",
       "      <td>False</td>\n",
       "      <td>False</td>\n",
       "      <td>False</td>\n",
       "      <td>False</td>\n",
       "      <td>False</td>\n",
       "      <td>False</td>\n",
       "      <td>0.0</td>\n",
       "    </tr>\n",
       "    <tr>\n",
       "      <th>1905</th>\n",
       "      <td>56</td>\n",
       "      <td>transactional</td>\n",
       "      <td>email</td>\n",
       "      <td>order reminder</td>\n",
       "      <td>1970-01-01</td>\n",
       "      <td>1970-01-01</td>\n",
       "      <td>0.0</td>\n",
       "      <td>False</td>\n",
       "      <td>False</td>\n",
       "      <td>0.0</td>\n",
       "      <td>88.0</td>\n",
       "      <td>False</td>\n",
       "      <td>False</td>\n",
       "      <td>False</td>\n",
       "      <td>False</td>\n",
       "      <td>False</td>\n",
       "      <td>False</td>\n",
       "      <td>False</td>\n",
       "      <td>0.0</td>\n",
       "    </tr>\n",
       "    <tr>\n",
       "      <th>1906</th>\n",
       "      <td>237</td>\n",
       "      <td>transactional</td>\n",
       "      <td>email</td>\n",
       "      <td>wish list status</td>\n",
       "      <td>1970-01-01</td>\n",
       "      <td>1970-01-01</td>\n",
       "      <td>0.0</td>\n",
       "      <td>False</td>\n",
       "      <td>False</td>\n",
       "      <td>0.0</td>\n",
       "      <td>104.0</td>\n",
       "      <td>False</td>\n",
       "      <td>False</td>\n",
       "      <td>True</td>\n",
       "      <td>False</td>\n",
       "      <td>False</td>\n",
       "      <td>False</td>\n",
       "      <td>False</td>\n",
       "      <td>0.0</td>\n",
       "    </tr>\n",
       "  </tbody>\n",
       "</table>\n",
       "</div>"
      ],
      "text/plain": [
       "       id  campaign_type channel             topic  started_at finished_at  \\\n",
       "1902  179  transactional   email   profile updated  1970-01-01  1970-01-01   \n",
       "1903   35  transactional   email    order reminder  1970-01-01  1970-01-01   \n",
       "1904   57  transactional   email    order reminder  1970-01-01  1970-01-01   \n",
       "1905   56  transactional   email    order reminder  1970-01-01  1970-01-01   \n",
       "1906  237  transactional   email  wish list status  1970-01-01  1970-01-01   \n",
       "\n",
       "      total_count  ab_test  warmup_mode  hour_limit  subject_length  \\\n",
       "1902          0.0    False        False         0.0           134.0   \n",
       "1903          0.0    False        False         0.0            88.0   \n",
       "1904          0.0    False        False         0.0            88.0   \n",
       "1905          0.0    False        False         0.0            88.0   \n",
       "1906          0.0    False        False         0.0           104.0   \n",
       "\n",
       "      subject_with_personalization  subject_with_deadline  subject_with_emoji  \\\n",
       "1902                         False                  False               False   \n",
       "1903                         False                  False               False   \n",
       "1904                         False                  False               False   \n",
       "1905                         False                  False               False   \n",
       "1906                         False                  False                True   \n",
       "\n",
       "      subject_with_bonuses  subject_with_discount  subject_with_saleout  \\\n",
       "1902                 False                  False                 False   \n",
       "1903                 False                  False                 False   \n",
       "1904                 False                  False                 False   \n",
       "1905                 False                  False                 False   \n",
       "1906                 False                  False                 False   \n",
       "\n",
       "      is_test  position  \n",
       "1902    False       0.0  \n",
       "1903    False       0.0  \n",
       "1904    False       0.0  \n",
       "1905    False       0.0  \n",
       "1906    False       0.0  "
      ]
     },
     "execution_count": 175,
     "metadata": {},
     "output_type": "execute_result"
    }
   ],
   "source": [
    "campaigns.tail()"
   ]
  },
  {
   "cell_type": "code",
   "execution_count": 176,
   "metadata": {},
   "outputs": [
    {
     "name": "stdout",
     "output_type": "stream",
     "text": [
      "id                                int64\n",
      "campaign_type                    object\n",
      "channel                          object\n",
      "topic                            object\n",
      "started_at                       object\n",
      "finished_at                      object\n",
      "total_count                     float64\n",
      "ab_test                            bool\n",
      "warmup_mode                        bool\n",
      "hour_limit                      float64\n",
      "subject_length                  float64\n",
      "subject_with_personalization       bool\n",
      "subject_with_deadline              bool\n",
      "subject_with_emoji                 bool\n",
      "subject_with_bonuses               bool\n",
      "subject_with_discount              bool\n",
      "subject_with_saleout               bool\n",
      "is_test                            bool\n",
      "position                        float64\n",
      "dtype: object\n"
     ]
    }
   ],
   "source": [
    "# 각 열의 데이터 유형 확인\n",
    "column_types = campaigns.dtypes\n",
    "# 결과 출력\n",
    "print(column_types)"
   ]
  },
  {
   "cell_type": "code",
   "execution_count": 177,
   "metadata": {},
   "outputs": [],
   "source": [
    "# # Elasticsearch 서버 연결\n",
    "es = Elasticsearch([{'host': 'localhost', 'port': 9200, 'scheme': 'http'}])"
   ]
  },
  {
   "cell_type": "code",
   "execution_count": 178,
   "metadata": {},
   "outputs": [
    {
     "name": "stdout",
     "output_type": "stream",
     "text": [
      "Elasticsearch 서버에 성공적으로 연결되었습니다.\n"
     ]
    }
   ],
   "source": [
    "# Elasticsearch 서버에 ping 요청 보내기\n",
    "if es.ping():\n",
    "    print(\"Elasticsearch 서버에 성공적으로 연결되었습니다.\")\n",
    "else:\n",
    "    print(\"Elasticsearch 서버에 연결하지 못했습니다.\")"
   ]
  },
  {
   "cell_type": "code",
   "execution_count": 179,
   "metadata": {},
   "outputs": [],
   "source": [
    "# 인덱스가 이미 존재하는 경우 삭제\n",
    "if es.indices.exists(index=\"e_campaigns\"):\n",
    "    es.indices.delete(index=\"e_campaigns\")"
   ]
  },
  {
   "cell_type": "code",
   "execution_count": 180,
   "metadata": {},
   "outputs": [],
   "source": [
    "# Elasticsearch 인덱스 매핑 설정\n",
    "mapping = {\n",
    "    \"mappings\": {\n",
    "        \"properties\": {\n",
    "            \"id\": {\"type\": \"integer\"},\n",
    "            \"campaign_type\": {\"type\": \"keyword\"},\n",
    "            \"channel\": {\"type\": \"keyword\"},\n",
    "            \"topic\": {\"type\": \"text\"},\n",
    "            \"started_at\": {\"type\": \"date\", \"format\": \"yyyy-MM-dd'T'HH:mm:ss.SSSZZ\"},\n",
    "            \"finished_at\": {\"type\": \"date\", \"format\": \"yyyy-MM-dd'T'HH:mm:ss.SSSZZ\"},\n",
    "            \"total_count\": {\"type\": \"float\"},\n",
    "            \"ab_test\": {\"type\": \"boolean\"},\n",
    "            \"warmup_mode\": {\"type\": \"boolean\"},\n",
    "            \"hour_limit\": {\"type\": \"float\"},\n",
    "            \"subject_length\": {\"type\": \"float\"},\n",
    "            \"subject_with_personalization\": {\"type\": \"boolean\"},\n",
    "            \"subject_with_deadline\": {\"type\": \"boolean\"},\n",
    "            \"subject_with_emoji\": {\"type\": \"boolean\"},\n",
    "            \"subject_with_bonuses\": {\"type\": \"boolean\"},\n",
    "            \"subject_with_discount\": {\"type\": \"boolean\"},\n",
    "            \"subject_with_saleout\": {\"type\": \"boolean\"},\n",
    "            \"is_test\": {\"type\": \"boolean\"},\n",
    "            \"position\": {\"type\": \"float\"}\n",
    "        }\n",
    "    }\n",
    "}"
   ]
  },
  {
   "cell_type": "code",
   "execution_count": 181,
   "metadata": {},
   "outputs": [
    {
     "name": "stderr",
     "output_type": "stream",
     "text": [
      "C:\\Users\\SEC\\AppData\\Local\\Temp\\ipykernel_26808\\2770387805.py:1: DeprecationWarning: Passing transport options in the API method is deprecated. Use 'Elasticsearch.options()' instead.\n",
      "  es.indices.create(index=\"e_campaigns\", body=mapping, ignore=400)\n"
     ]
    },
    {
     "data": {
      "text/plain": [
       "ObjectApiResponse({'acknowledged': True, 'shards_acknowledged': True, 'index': 'e_campaigns'})"
      ]
     },
     "execution_count": 181,
     "metadata": {},
     "output_type": "execute_result"
    }
   ],
   "source": [
    "es.indices.create(index=\"e_campaigns\", body=mapping, ignore=400)"
   ]
  },
  {
   "cell_type": "code",
   "execution_count": 188,
   "metadata": {},
   "outputs": [
    {
     "name": "stderr",
     "output_type": "stream",
     "text": [
      "C:\\Users\\SEC\\AppData\\Local\\Temp\\ipykernel_26808\\27307074.py:2: DeprecationWarning: Passing transport options in the API method is deprecated. Use 'Elasticsearch.options()' instead.\n",
      "  es.indices.delete(index=\"e_campaigns\", ignore=[400, 404])\n"
     ]
    },
    {
     "data": {
      "text/plain": [
       "ObjectApiResponse({'acknowledged': True})"
      ]
     },
     "execution_count": 188,
     "metadata": {},
     "output_type": "execute_result"
    }
   ],
   "source": [
    "# Elasticsearch에 이미 색인된 데이터 삭제\n",
    "es.indices.delete(index=\"e_campaigns\", ignore=[400, 404])"
   ]
  },
  {
   "cell_type": "code",
   "execution_count": 189,
   "metadata": {},
   "outputs": [],
   "source": [
    "# 데이터프레임에서 Elasticsearch에 색인할 문서 생성\n",
    "documents = []\n",
    "for _, row in campaigns.iterrows():\n",
    "    document = row.to_dict()\n",
    "\n",
    "    # NaN이 아닌 경우에만 날짜를 ISO 형식으로 변환\n",
    "    if not pd.isnull(document['started_at']):\n",
    "        document['started_at'] = pd.to_datetime(document['started_at']).isoformat()\n",
    "    if not pd.isnull(document['finished_at']):\n",
    "        document['finished_at'] = pd.to_datetime(document['finished_at']).isoformat()\n",
    "\n",
    "    # NaN을 None으로 대체\n",
    "    for key, value in document.items():\n",
    "        if pd.isna(value):\n",
    "            document[key] = None\n",
    "\n",
    "    documents.append({\n",
    "        \"_op_type\": \"index\",\n",
    "        \"_index\": \"e_campaigns\",\n",
    "        \"_source\": document\n",
    "    })\n",
    "\n",
    "# 실패한 문서에 대한 정보 출력\n",
    "for i, item in enumerate(documents):\n",
    "    try:\n",
    "        success, failed = bulk(es, [item])\n",
    "    except BulkIndexError as e:\n",
    "        print(f\"Failed to index document {i + 1}: {e}\")\n",
    "        print(f\"Error: {e.errors}\")"
   ]
  }
 ],
 "metadata": {
  "kernelspec": {
   "display_name": "Python 3",
   "language": "python",
   "name": "python3"
  },
  "language_info": {
   "codemirror_mode": {
    "name": "ipython",
    "version": 3
   },
   "file_extension": ".py",
   "mimetype": "text/x-python",
   "name": "python",
   "nbconvert_exporter": "python",
   "pygments_lexer": "ipython3",
   "version": "3.11.4"
  }
 },
 "nbformat": 4,
 "nbformat_minor": 2
}

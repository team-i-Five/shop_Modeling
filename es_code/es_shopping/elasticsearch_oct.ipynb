{
 "cells": [
  {
   "cell_type": "markdown",
   "metadata": {},
   "source": [
    "### 소비자 행동데이터 분석을 위한 2019년 10월 1개월 간의 소비자 행동데이터"
   ]
  },
  {
   "cell_type": "code",
   "execution_count": null,
   "metadata": {},
   "outputs": [],
   "source": [
    "# #Elasticsearch 설치\n",
    "# !pip install elasticsearch"
   ]
  },
  {
   "cell_type": "code",
   "execution_count": 1,
   "metadata": {},
   "outputs": [],
   "source": [
    "import pandas as pd\n",
    "from elasticsearch import Elasticsearch\n",
    "from elasticsearch.helpers import bulk"
   ]
  },
  {
   "cell_type": "code",
   "execution_count": 2,
   "metadata": {},
   "outputs": [],
   "source": [
    "# 전체 데이터 읽기\n",
    "file_path = r\"/home/user1/project/shop_Modeling/data/shopping_data/2019-Oct.csv\"\n",
    "chunk_size = 5000\n",
    "chunks = [] # 데이터를 청크 단위로 읽어오기\n",
    "num_rows_to_read = 3000000  # 읽을 행의 총 수\n",
    "rows_read = 0"
   ]
  },
  {
   "cell_type": "code",
   "execution_count": 3,
   "metadata": {},
   "outputs": [],
   "source": [
    "for chunk in pd.read_csv(file_path, chunksize=chunk_size):\n",
    "    # 여기서 각 청크에 대한 원하는 처리 수행\n",
    "    # 예를 들어, 데이터프레임에 저장하거나 다른 작업을 수행\n",
    "\n",
    "    # 현재 예제에서는 각 청크를 리스트에 추가\n",
    "    chunks.append(chunk)\n",
    "    rows_read += chunk.shape[0]\n",
    "\n",
    "    # 읽은 행의 총 수가 목표 행의 수에 도달하면 중단\n",
    "    if rows_read >= num_rows_to_read:\n",
    "        break\n",
    "\n",
    "# 모든 청크를 하나의 데이터프레임으로 통합\n",
    "data = pd.concat(chunks, ignore_index=True)"
   ]
  },
  {
   "cell_type": "code",
   "execution_count": null,
   "metadata": {},
   "outputs": [],
   "source": [
    "# # Pandas의 read_csv 함수를 이용해 청크 단위로 데이터 읽어오기\n",
    "# for chunk in pd.read_csv(file_path, chunksize=chunk_size, iterator=True):\n",
    "#     data_frames.append(chunk)\n",
    "    \n",
    "#     # 읽어온 데이터의 행 수가 목표 행 수에 도달하면 종료\n",
    "#     if len(chunk) >= total_rows:\n",
    "#         break\n",
    "\n",
    "# # 모든 청크를 병합하여 최종 DataFrame 생성\n",
    "# data = pd.concat(data_frames, ignore_index=True)"
   ]
  },
  {
   "cell_type": "code",
   "execution_count": 4,
   "metadata": {},
   "outputs": [
    {
     "name": "stdout",
     "output_type": "stream",
     "text": [
      "데이터프레임의 크기: (3000000, 9)\n"
     ]
    }
   ],
   "source": [
    "# 데이터프레임의 크기 확인\n",
    "print(\"데이터프레임의 크기:\", data.shape)"
   ]
  },
  {
   "cell_type": "code",
   "execution_count": 5,
   "metadata": {},
   "outputs": [
    {
     "data": {
      "text/html": [
       "<div>\n",
       "<style scoped>\n",
       "    .dataframe tbody tr th:only-of-type {\n",
       "        vertical-align: middle;\n",
       "    }\n",
       "\n",
       "    .dataframe tbody tr th {\n",
       "        vertical-align: top;\n",
       "    }\n",
       "\n",
       "    .dataframe thead th {\n",
       "        text-align: right;\n",
       "    }\n",
       "</style>\n",
       "<table border=\"1\" class=\"dataframe\">\n",
       "  <thead>\n",
       "    <tr style=\"text-align: right;\">\n",
       "      <th></th>\n",
       "      <th>event_time</th>\n",
       "      <th>event_type</th>\n",
       "      <th>product_id</th>\n",
       "      <th>category_id</th>\n",
       "      <th>category_code</th>\n",
       "      <th>brand</th>\n",
       "      <th>price</th>\n",
       "      <th>user_id</th>\n",
       "      <th>user_session</th>\n",
       "    </tr>\n",
       "  </thead>\n",
       "  <tbody>\n",
       "    <tr>\n",
       "      <th>0</th>\n",
       "      <td>2019-10-01 00:00:00 UTC</td>\n",
       "      <td>view</td>\n",
       "      <td>44600062</td>\n",
       "      <td>2103807459595387724</td>\n",
       "      <td>NaN</td>\n",
       "      <td>shiseido</td>\n",
       "      <td>35.79</td>\n",
       "      <td>541312140</td>\n",
       "      <td>72d76fde-8bb3-4e00-8c23-a032dfed738c</td>\n",
       "    </tr>\n",
       "    <tr>\n",
       "      <th>1</th>\n",
       "      <td>2019-10-01 00:00:00 UTC</td>\n",
       "      <td>view</td>\n",
       "      <td>3900821</td>\n",
       "      <td>2053013552326770905</td>\n",
       "      <td>appliances.environment.water_heater</td>\n",
       "      <td>aqua</td>\n",
       "      <td>33.20</td>\n",
       "      <td>554748717</td>\n",
       "      <td>9333dfbd-b87a-4708-9857-6336556b0fcc</td>\n",
       "    </tr>\n",
       "    <tr>\n",
       "      <th>2</th>\n",
       "      <td>2019-10-01 00:00:01 UTC</td>\n",
       "      <td>view</td>\n",
       "      <td>17200506</td>\n",
       "      <td>2053013559792632471</td>\n",
       "      <td>furniture.living_room.sofa</td>\n",
       "      <td>NaN</td>\n",
       "      <td>543.10</td>\n",
       "      <td>519107250</td>\n",
       "      <td>566511c2-e2e3-422b-b695-cf8e6e792ca8</td>\n",
       "    </tr>\n",
       "    <tr>\n",
       "      <th>3</th>\n",
       "      <td>2019-10-01 00:00:01 UTC</td>\n",
       "      <td>view</td>\n",
       "      <td>1307067</td>\n",
       "      <td>2053013558920217191</td>\n",
       "      <td>computers.notebook</td>\n",
       "      <td>lenovo</td>\n",
       "      <td>251.74</td>\n",
       "      <td>550050854</td>\n",
       "      <td>7c90fc70-0e80-4590-96f3-13c02c18c713</td>\n",
       "    </tr>\n",
       "    <tr>\n",
       "      <th>4</th>\n",
       "      <td>2019-10-01 00:00:04 UTC</td>\n",
       "      <td>view</td>\n",
       "      <td>1004237</td>\n",
       "      <td>2053013555631882655</td>\n",
       "      <td>electronics.smartphone</td>\n",
       "      <td>apple</td>\n",
       "      <td>1081.98</td>\n",
       "      <td>535871217</td>\n",
       "      <td>c6bd7419-2748-4c56-95b4-8cec9ff8b80d</td>\n",
       "    </tr>\n",
       "  </tbody>\n",
       "</table>\n",
       "</div>"
      ],
      "text/plain": [
       "                event_time event_type  product_id          category_id  \\\n",
       "0  2019-10-01 00:00:00 UTC       view    44600062  2103807459595387724   \n",
       "1  2019-10-01 00:00:00 UTC       view     3900821  2053013552326770905   \n",
       "2  2019-10-01 00:00:01 UTC       view    17200506  2053013559792632471   \n",
       "3  2019-10-01 00:00:01 UTC       view     1307067  2053013558920217191   \n",
       "4  2019-10-01 00:00:04 UTC       view     1004237  2053013555631882655   \n",
       "\n",
       "                         category_code     brand    price    user_id  \\\n",
       "0                                  NaN  shiseido    35.79  541312140   \n",
       "1  appliances.environment.water_heater      aqua    33.20  554748717   \n",
       "2           furniture.living_room.sofa       NaN   543.10  519107250   \n",
       "3                   computers.notebook    lenovo   251.74  550050854   \n",
       "4               electronics.smartphone     apple  1081.98  535871217   \n",
       "\n",
       "                           user_session  \n",
       "0  72d76fde-8bb3-4e00-8c23-a032dfed738c  \n",
       "1  9333dfbd-b87a-4708-9857-6336556b0fcc  \n",
       "2  566511c2-e2e3-422b-b695-cf8e6e792ca8  \n",
       "3  7c90fc70-0e80-4590-96f3-13c02c18c713  \n",
       "4  c6bd7419-2748-4c56-95b4-8cec9ff8b80d  "
      ]
     },
     "execution_count": 5,
     "metadata": {},
     "output_type": "execute_result"
    }
   ],
   "source": [
    "data.head()"
   ]
  },
  {
   "cell_type": "code",
   "execution_count": null,
   "metadata": {},
   "outputs": [],
   "source": [
    "# # 큰 크기의 CSV 파일을 더 작은 청크(chunk)로 나누어 읽고 이를 데이터프레임에 추가\n",
    "# chunks = pd.read_csv(file_path, encoding='utf-8', chunksize=1000)"
   ]
  },
  {
   "cell_type": "code",
   "execution_count": 6,
   "metadata": {},
   "outputs": [],
   "source": [
    "# # Elasticsearch 서버 연결\n",
    "es = Elasticsearch([{'host': 'localhost', 'port': 9200, 'scheme': 'http'}])"
   ]
  },
  {
   "cell_type": "code",
   "execution_count": 7,
   "metadata": {},
   "outputs": [
    {
     "name": "stdout",
     "output_type": "stream",
     "text": [
      "Elasticsearch 서버에 성공적으로 연결되었습니다.\n"
     ]
    }
   ],
   "source": [
    "# Elasticsearch 서버에 ping 요청 보내기\n",
    "if es.ping():\n",
    "    print(\"Elasticsearch 서버에 성공적으로 연결되었습니다.\")\n",
    "else:\n",
    "    print(\"Elasticsearch 서버에 연결하지 못했습니다.\")"
   ]
  },
  {
   "cell_type": "code",
   "execution_count": 8,
   "metadata": {},
   "outputs": [],
   "source": [
    "# Elasticsearch에 매핑 설정\n",
    "shopping_oct = 'shopping_oct'  # 원하는 색인명으로 변경\n",
    "\n",
    "# 인덱스 매핑 설정\n",
    "mapping = {\n",
    "    \"mappings\": {\n",
    "        \"properties\": {\n",
    "            \"event_time\": {\"type\": \"date\", \"format\": \"yyyy-MM-dd HH:mm:ss Z\"},  # 날짜 필드\n",
    "            \"event_type\": {\"type\": \"keyword\"},  # 문자열 키워드 필드\n",
    "            \"product_id\": {\"type\": \"keyword\"},  # 문자열 키워드 필드\n",
    "            \"category_id\": {\"type\": \"keyword\"},  # 문자열 키워드 필드\n",
    "            \"category_code\": {\"type\": \"keyword\"},  # 문자열 키워드 필드\n",
    "            \"brand\": {\"type\": \"keyword\"},  # 문자열 키워드 필드\n",
    "            \"price\": {\"type\": \"float\"},  # 부동소수점 숫자 필드\n",
    "            \"user_id\": {\"type\": \"keyword\"},  # 문자열 키워드 필드\n",
    "            \"user_session\": {\"type\": \"keyword\"}  # 문자열 키워드 필드\n",
    "        }\n",
    "    }\n",
    "}"
   ]
  },
  {
   "cell_type": "code",
   "execution_count": 9,
   "metadata": {},
   "outputs": [
    {
     "name": "stderr",
     "output_type": "stream",
     "text": [
      "/tmp/ipykernel_13326/3024227504.py:2: DeprecationWarning: Passing transport options in the API method is deprecated. Use 'Elasticsearch.options()' instead.\n",
      "  es.indices.create(index=shopping_oct, body=mapping, ignore=400)\n"
     ]
    },
    {
     "data": {
      "text/plain": [
       "ObjectApiResponse({'acknowledged': True, 'shards_acknowledged': True, 'index': 'shopping_oct'})"
      ]
     },
     "execution_count": 9,
     "metadata": {},
     "output_type": "execute_result"
    }
   ],
   "source": [
    "# 매핑을 설정한 인덱스에 적용\n",
    "es.indices.create(index=shopping_oct, body=mapping, ignore=400)"
   ]
  },
  {
   "cell_type": "code",
   "execution_count": null,
   "metadata": {},
   "outputs": [],
   "source": [
    "# # 큰 크기의 CSV 파일을 더 작은 청크(chunk)로 나누어 읽고 이를 데이터프레임에 추가\n",
    "# chunks = pd.read_csv(file_path, encoding='utf-8', chunksize=1000)"
   ]
  },
  {
   "cell_type": "code",
   "execution_count": 10,
   "metadata": {},
   "outputs": [
    {
     "name": "stderr",
     "output_type": "stream",
     "text": [
      "/tmp/ipykernel_13326/553074156.py:2: DeprecationWarning: Passing transport options in the API method is deprecated. Use 'Elasticsearch.options()' instead.\n",
      "  es.indices.delete(index=shopping_oct, ignore=[400, 404])\n"
     ]
    },
    {
     "data": {
      "text/plain": [
       "ObjectApiResponse({'acknowledged': True})"
      ]
     },
     "execution_count": 10,
     "metadata": {},
     "output_type": "execute_result"
    }
   ],
   "source": [
    "# Elasticsearch에 이미 색인된 데이터 삭제\n",
    "es.indices.delete(index=shopping_oct, ignore=[400, 404])"
   ]
  },
  {
   "cell_type": "code",
   "execution_count": null,
   "metadata": {},
   "outputs": [],
   "source": [
    "# 큰 크기의 CSV 파일을 작은 청크(chunk)로 나누어 읽고 이를 Elasticsearch에 색인\n",
    "chunk_size = 1000\n",
    "for chunk in pd.read_csv(file_path, encoding='utf-8', chunksize=chunk_size):\n",
    "    # 각 청크에 대한 처리를 여기에 추가\n",
    "    # 예를 들어, 원하는 계산 수행 또는 데이터 전처리 등을 수행\n",
    "\n",
    "    # NaN을 0으로 대체\n",
    "    chunk = chunk.fillna(0)\n",
    "\n",
    "    # Elasticsearch에 색인할 때 사용할 데이터프레임 생성\n",
    "    for i, row in chunk.iterrows():\n",
    "        document = row.to_dict()\n",
    "\n",
    "        # 'brand'와 'category_code' 필드를 명시적으로 문자열로 변환\n",
    "        document['brand'] = str(document['brand'])\n",
    "        document['category_code'] = str(document['category_code'])\n",
    "\n",
    "        try:\n",
    "            # Elasticsearch에 색인\n",
    "            es.index(index=shopping_oct, body=document)\n",
    "        except Exception as e:\n",
    "            print(f\"Error indexing document: {e}\")\n",
    "            print(f\"Error details: {document}\")\n",
    "\n",
    "print(\"색인이 완료되었습니다.\")"
   ]
  },
  {
   "cell_type": "code",
   "execution_count": null,
   "metadata": {},
   "outputs": [],
   "source": [
    "import elasticsearch\n",
    "print(elasticsearch.__version__)"
   ]
  }
 ],
 "metadata": {
  "kernelspec": {
   "display_name": "Python 3",
   "language": "python",
   "name": "python3"
  },
  "language_info": {
   "codemirror_mode": {
    "name": "ipython",
    "version": 3
   },
   "file_extension": ".py",
   "mimetype": "text/x-python",
   "name": "python",
   "nbconvert_exporter": "python",
   "pygments_lexer": "ipython3",
   "version": "3.10.12"
  }
 },
 "nbformat": 4,
 "nbformat_minor": 2
}
